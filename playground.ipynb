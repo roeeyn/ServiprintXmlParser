{
 "cells": [
  {
   "cell_type": "markdown",
   "id": "received-belly",
   "metadata": {},
   "source": [
    "# Experimentation With Test XML"
   ]
  },
  {
   "cell_type": "code",
   "execution_count": 2,
   "id": "consistent-kidney",
   "metadata": {},
   "outputs": [],
   "source": [
    "from xml.dom import minidom"
   ]
  },
  {
   "cell_type": "code",
   "execution_count": 43,
   "id": "classical-caution",
   "metadata": {},
   "outputs": [
    {
     "data": {
      "text/plain": [
       "<xml.dom.minidom.Document at 0x7f60714d8fa0>"
      ]
     },
     "execution_count": 43,
     "metadata": {},
     "output_type": "execute_result"
    }
   ],
   "source": [
    "\"\"\"\n",
    "emissorName\n",
    "emissorRFC\n",
    "date\n",
    "subtotal\n",
    "folio\n",
    "\"\"\"\n",
    "xmldoc = minidom.parse('test.xml')\n",
    "xmldoc"
   ]
  },
  {
   "cell_type": "code",
   "execution_count": 8,
   "id": "disabled-footwear",
   "metadata": {},
   "outputs": [],
   "source": [
    "emisor = xmldoc.getElementsByTagName('cfdi:Emisor')"
   ]
  },
  {
   "cell_type": "code",
   "execution_count": 11,
   "id": "amazing-traffic",
   "metadata": {},
   "outputs": [
    {
     "name": "stdout",
     "output_type": "stream",
     "text": [
      "CABLEBOX S.A. DE C.V.\n",
      "CAB1001272R8\n"
     ]
    }
   ],
   "source": [
    "for el in emisor:\n",
    "    print(el.attributes[\"Nombre\"].value)\n",
    "    print(el.attributes[\"Rfc\"].value)"
   ]
  },
  {
   "cell_type": "code",
   "execution_count": 12,
   "id": "finite-fantasy",
   "metadata": {},
   "outputs": [],
   "source": [
    "root = xmldoc.getElementsByTagName('cfdi:Comprobante')"
   ]
  },
  {
   "cell_type": "code",
   "execution_count": 14,
   "id": "seeing-salvation",
   "metadata": {},
   "outputs": [
    {
     "name": "stdout",
     "output_type": "stream",
     "text": [
      "135.00\n",
      "2021-01-01T15:30:38\n",
      "373291077\n"
     ]
    }
   ],
   "source": [
    "for el in root:\n",
    "    print(el.attributes[\"SubTotal\"].value)\n",
    "    print(el.attributes[\"Fecha\"].value)\n",
    "    print(el.attributes[\"Folio\"].value)"
   ]
  },
  {
   "cell_type": "code",
   "execution_count": 15,
   "id": "naughty-ukraine",
   "metadata": {},
   "outputs": [
    {
     "name": "stdout",
     "output_type": "stream",
     "text": [
      "Servicio Renta de Equipos\n"
     ]
    }
   ],
   "source": [
    "concepts = xmldoc.getElementsByTagName('cfdi:Concepto')\n",
    "\n",
    "for concept in concepts:\n",
    "    print(concept.attributes[\"Descripcion\"].value)"
   ]
  },
  {
   "cell_type": "markdown",
   "id": "assured-settlement",
   "metadata": {},
   "source": [
    "# Function definition"
   ]
  },
  {
   "cell_type": "code",
   "execution_count": 24,
   "id": "anticipated-shannon",
   "metadata": {},
   "outputs": [],
   "source": [
    "def get_elements_from_xml(xml_doc, tag_name, attributes, get_all=False):\n",
    "    root_elements = xml_doc.getElementsByTagName(tag_name)\n",
    "    result = []\n",
    "    \n",
    "    for el in root_elements:\n",
    "        attr_dict = {}\n",
    "    \n",
    "        for attr in attributes:\n",
    "            attr_dict[attr] = el.attributes[attr].value\n",
    "        \n",
    "        if get_all:\n",
    "            result.append(attr_dict)\n",
    "        else:\n",
    "            return attr_dict\n",
    "    \n",
    "    return result"
   ]
  },
  {
   "cell_type": "code",
   "execution_count": 30,
   "id": "handmade-queens",
   "metadata": {},
   "outputs": [
    {
     "data": {
      "text/plain": [
       "{'Nombre': 'CABLEBOX S.A. DE C.V.', 'Rfc': 'CAB1001272R8'}"
      ]
     },
     "execution_count": 30,
     "metadata": {},
     "output_type": "execute_result"
    }
   ],
   "source": [
    "emissor = get_elements_from_xml(xmldoc, \"cfdi:Emisor\", [\"Nombre\", \"Rfc\"])\n",
    "emissor"
   ]
  },
  {
   "cell_type": "code",
   "execution_count": 27,
   "id": "thrown-glucose",
   "metadata": {},
   "outputs": [
    {
     "data": {
      "text/plain": [
       "{'SubTotal': '135.00', 'Fecha': '2021-01-01T15:30:38', 'Folio': '373291077'}"
      ]
     },
     "execution_count": 27,
     "metadata": {},
     "output_type": "execute_result"
    }
   ],
   "source": [
    "invoice = get_elements_from_xml(xmldoc, \"cfdi:Comprobante\", [\"SubTotal\", \"Fecha\", \"Folio\"])\n",
    "invoice"
   ]
  },
  {
   "cell_type": "code",
   "execution_count": 28,
   "id": "macro-coaching",
   "metadata": {},
   "outputs": [
    {
     "data": {
      "text/plain": [
       "[{'Descripcion': 'Servicio Renta de Equipos'}]"
      ]
     },
     "execution_count": 28,
     "metadata": {},
     "output_type": "execute_result"
    }
   ],
   "source": [
    "concepts = get_elements_from_xml(xmldoc, \"cfdi:Concepto\", [\"Descripcion\"], True)\n",
    "concepts"
   ]
  },
  {
   "cell_type": "markdown",
   "id": "classified-illinois",
   "metadata": {},
   "source": [
    "# CSV File Creation"
   ]
  },
  {
   "cell_type": "code",
   "execution_count": 32,
   "id": "applied-valley",
   "metadata": {},
   "outputs": [],
   "source": [
    "import csv"
   ]
  },
  {
   "cell_type": "code",
   "execution_count": 36,
   "id": "imperial-medium",
   "metadata": {},
   "outputs": [
    {
     "data": {
      "text/plain": [
       "{'Concepto 1': 'Servicio Renta de Equipos'}"
      ]
     },
     "execution_count": 36,
     "metadata": {},
     "output_type": "execute_result"
    }
   ],
   "source": [
    "concepts_dict = {f\"Concepto {idx + 1}\": concept[\"Descripcion\"] for idx, concept in enumerate(concepts)}\n",
    "concepts_dict"
   ]
  },
  {
   "cell_type": "code",
   "execution_count": 38,
   "id": "irish-comparative",
   "metadata": {},
   "outputs": [
    {
     "data": {
      "text/plain": [
       "{'Nombre': 'CABLEBOX S.A. DE C.V.',\n",
       " 'Rfc': 'CAB1001272R8',\n",
       " 'SubTotal': '135.00',\n",
       " 'Fecha': '2021-01-01T15:30:38',\n",
       " 'Folio': '373291077',\n",
       " 'Concepto 1': 'Servicio Renta de Equipos'}"
      ]
     },
     "execution_count": 38,
     "metadata": {},
     "output_type": "execute_result"
    }
   ],
   "source": [
    "row_dict = {**emissor, **invoice, **concepts_dict}\n",
    "row_dict"
   ]
  },
  {
   "cell_type": "code",
   "execution_count": 42,
   "id": "painful-coach",
   "metadata": {},
   "outputs": [],
   "source": [
    "with open('invoices_test.csv', 'w') as file:\n",
    "    fieldnames = ['Nombre', 'Rfc', 'SubTotal', 'Fecha', 'Folio', 'Concepto 1', 'Concepto 2', 'Concepto 3']\n",
    "    writer = csv.DictWriter(file, fieldnames=fieldnames)\n",
    "\n",
    "    writer.writeheader()\n",
    "    writer.writerow(row_dict)"
   ]
  },
  {
   "cell_type": "code",
   "execution_count": null,
   "id": "conscious-friday",
   "metadata": {},
   "outputs": [],
   "source": []
  }
 ],
 "metadata": {
  "kernelspec": {
   "display_name": "Python 3",
   "language": "python",
   "name": "python3"
  },
  "language_info": {
   "codemirror_mode": {
    "name": "ipython",
    "version": 3
   },
   "file_extension": ".py",
   "mimetype": "text/x-python",
   "name": "python",
   "nbconvert_exporter": "python",
   "pygments_lexer": "ipython3",
   "version": "3.8.6"
  }
 },
 "nbformat": 4,
 "nbformat_minor": 5
}
