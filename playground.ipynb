{
 "cells": [
  {
   "cell_type": "markdown",
   "id": "synthetic-walker",
   "metadata": {},
   "source": [
    "# Experimentation With Test XML"
   ]
  },
  {
   "cell_type": "code",
   "execution_count": 1,
   "id": "surface-apparatus",
   "metadata": {},
   "outputs": [],
   "source": [
    "from xml.dom import minidom"
   ]
  },
  {
   "cell_type": "code",
   "execution_count": 2,
   "id": "intelligent-friendly",
   "metadata": {},
   "outputs": [
    {
     "data": {
      "text/plain": [
       "<xml.dom.minidom.Document at 0x7fc8600f3dc0>"
      ]
     },
     "execution_count": 2,
     "metadata": {},
     "output_type": "execute_result"
    }
   ],
   "source": [
    "\"\"\"\n",
    "emissorName\n",
    "emissorRFC\n",
    "date\n",
    "subtotal\n",
    "folio\n",
    "\"\"\"\n",
    "xmldoc = minidom.parse('test.xml')\n",
    "xmldoc"
   ]
  },
  {
   "cell_type": "code",
   "execution_count": 3,
   "id": "interesting-offense",
   "metadata": {},
   "outputs": [],
   "source": [
    "emisor = xmldoc.getElementsByTagName('cfdi:Emisor')"
   ]
  },
  {
   "cell_type": "code",
   "execution_count": 4,
   "id": "sunset-cotton",
   "metadata": {},
   "outputs": [
    {
     "name": "stdout",
     "output_type": "stream",
     "text": [
      "CABLEBOX S.A. DE C.V.\n",
      "CAB1001272R8\n"
     ]
    }
   ],
   "source": [
    "for el in emisor:\n",
    "    print(el.attributes[\"Nombre\"].value)\n",
    "    print(el.attributes[\"Rfc\"].value)"
   ]
  },
  {
   "cell_type": "code",
   "execution_count": 5,
   "id": "photographic-pastor",
   "metadata": {},
   "outputs": [],
   "source": [
    "root = xmldoc.getElementsByTagName('cfdi:Comprobante')"
   ]
  },
  {
   "cell_type": "code",
   "execution_count": 6,
   "id": "limited-neighborhood",
   "metadata": {},
   "outputs": [
    {
     "name": "stdout",
     "output_type": "stream",
     "text": [
      "135.00\n",
      "2021-01-01T15:30:38\n",
      "373291077\n"
     ]
    }
   ],
   "source": [
    "for el in root:\n",
    "    print(el.attributes[\"SubTotal\"].value)\n",
    "    print(el.attributes[\"Fecha\"].value)\n",
    "    print(el.attributes[\"Folio\"].value)"
   ]
  },
  {
   "cell_type": "code",
   "execution_count": 7,
   "id": "incomplete-madagascar",
   "metadata": {},
   "outputs": [
    {
     "name": "stdout",
     "output_type": "stream",
     "text": [
      "Servicio Renta de Equipos\n"
     ]
    }
   ],
   "source": [
    "concepts = xmldoc.getElementsByTagName('cfdi:Concepto')\n",
    "\n",
    "for concept in concepts:\n",
    "    print(concept.attributes[\"Descripcion\"].value)"
   ]
  },
  {
   "cell_type": "markdown",
   "id": "particular-conversion",
   "metadata": {},
   "source": [
    "# Function definition"
   ]
  },
  {
   "cell_type": "code",
   "execution_count": 8,
   "id": "round-canal",
   "metadata": {},
   "outputs": [],
   "source": [
    "def get_elements_from_xml(xml_doc, tag_name, attributes, get_all=False):\n",
    "    root_elements = xml_doc.getElementsByTagName(tag_name)\n",
    "    result = []\n",
    "    \n",
    "    for el in root_elements:\n",
    "        attr_dict = {}\n",
    "    \n",
    "        for attr in attributes:\n",
    "            attr_dict[attr] = el.attributes[attr].value\n",
    "        \n",
    "        if get_all:\n",
    "            result.append(attr_dict)\n",
    "        else:\n",
    "            return attr_dict\n",
    "    \n",
    "    return result"
   ]
  },
  {
   "cell_type": "code",
   "execution_count": 9,
   "id": "dietary-wells",
   "metadata": {},
   "outputs": [
    {
     "data": {
      "text/plain": [
       "{'Nombre': 'CABLEBOX S.A. DE C.V.', 'Rfc': 'CAB1001272R8'}"
      ]
     },
     "execution_count": 9,
     "metadata": {},
     "output_type": "execute_result"
    }
   ],
   "source": [
    "emissor = get_elements_from_xml(xmldoc, \"cfdi:Emisor\", [\"Nombre\", \"Rfc\"])\n",
    "emissor"
   ]
  },
  {
   "cell_type": "code",
   "execution_count": 10,
   "id": "frozen-familiar",
   "metadata": {},
   "outputs": [
    {
     "data": {
      "text/plain": [
       "{'SubTotal': '135.00', 'Fecha': '2021-01-01T15:30:38', 'Folio': '373291077'}"
      ]
     },
     "execution_count": 10,
     "metadata": {},
     "output_type": "execute_result"
    }
   ],
   "source": [
    "invoice = get_elements_from_xml(xmldoc, \"cfdi:Comprobante\", [\"SubTotal\", \"Fecha\", \"Folio\"])\n",
    "invoice"
   ]
  },
  {
   "cell_type": "code",
   "execution_count": 11,
   "id": "damaged-diameter",
   "metadata": {},
   "outputs": [
    {
     "data": {
      "text/plain": [
       "[{'Descripcion': 'Servicio Renta de Equipos'}]"
      ]
     },
     "execution_count": 11,
     "metadata": {},
     "output_type": "execute_result"
    }
   ],
   "source": [
    "concepts = get_elements_from_xml(xmldoc, \"cfdi:Concepto\", [\"Descripcion\"], True)\n",
    "concepts"
   ]
  },
  {
   "cell_type": "markdown",
   "id": "eastern-government",
   "metadata": {},
   "source": [
    "# CSV File Creation"
   ]
  },
  {
   "cell_type": "code",
   "execution_count": 12,
   "id": "blessed-penguin",
   "metadata": {},
   "outputs": [],
   "source": [
    "import csv"
   ]
  },
  {
   "cell_type": "code",
   "execution_count": 13,
   "id": "burning-anniversary",
   "metadata": {},
   "outputs": [
    {
     "data": {
      "text/plain": [
       "{'Concepto 1': 'Servicio Renta de Equipos'}"
      ]
     },
     "execution_count": 13,
     "metadata": {},
     "output_type": "execute_result"
    }
   ],
   "source": [
    "concepts_dict = {f\"Concepto {idx + 1}\": concept[\"Descripcion\"] for idx, concept in enumerate(concepts)}\n",
    "concepts_dict"
   ]
  },
  {
   "cell_type": "code",
   "execution_count": 14,
   "id": "awful-receiver",
   "metadata": {},
   "outputs": [
    {
     "data": {
      "text/plain": [
       "{'Nombre': 'CABLEBOX S.A. DE C.V.',\n",
       " 'Rfc': 'CAB1001272R8',\n",
       " 'SubTotal': '135.00',\n",
       " 'Fecha': '2021-01-01T15:30:38',\n",
       " 'Folio': '373291077',\n",
       " 'Concepto 1': 'Servicio Renta de Equipos'}"
      ]
     },
     "execution_count": 14,
     "metadata": {},
     "output_type": "execute_result"
    }
   ],
   "source": [
    "row_dict = {**emissor, **invoice, **concepts_dict}\n",
    "row_dict"
   ]
  },
  {
   "cell_type": "code",
   "execution_count": 15,
   "id": "sexual-aggregate",
   "metadata": {},
   "outputs": [],
   "source": [
    "with open('invoices_test.csv', 'w') as file:\n",
    "    fieldnames = ['Nombre', 'Rfc', 'SubTotal', 'Fecha', 'Folio', 'Concepto 1', 'Concepto 2', 'Concepto 3']\n",
    "    writer = csv.DictWriter(file, fieldnames=fieldnames)\n",
    "\n",
    "    writer.writeheader()\n",
    "    writer.writerow(row_dict)"
   ]
  },
  {
   "cell_type": "code",
   "execution_count": 45,
   "id": "catholic-square",
   "metadata": {},
   "outputs": [
    {
     "name": "stdout",
     "output_type": "stream",
     "text": [
      "{'Nombre': 'CABLEBOX S.A. DE C.V.', 'Rfc': 'CAB1001272R8', 'SubTotal': '135.00', 'Fecha': '2021-01-01T15:30:38', 'Folio': '373291077', 'Concepto 1': 'Servicio Renta de Equipos'}\n",
      "\n"
     ]
    }
   ],
   "source": [
    "from tempfile import SpooledTemporaryFile\n",
    "\n",
    "# with SpooledTemporaryFile(mode=\"+\") as tf:\n",
    "tf = SpooledTemporaryFile(mode=\"+\")\n",
    "fieldnames = ['Nombre', 'Rfc', 'SubTotal', 'Fecha', 'Folio', 'Concepto 1', 'Concepto 2', 'Concepto 3']\n",
    "writer = csv.DictWriter(tf, fieldnames=fieldnames)\n",
    "\n",
    "writer.writeheader()\n",
    "writer.writerow(row_dict)\n",
    "print(row_dict)\n",
    "print(tf._file.read())\n"
   ]
  },
  {
   "cell_type": "code",
   "execution_count": 50,
   "id": "surface-brave",
   "metadata": {},
   "outputs": [
    {
     "name": "stdout",
     "output_type": "stream",
     "text": [
      "cosa\n",
      "otra cosa\n"
     ]
    }
   ],
   "source": [
    "import tempfile\n",
    "\n",
    "tmp = tempfile.NamedTemporaryFile()\n",
    "\n",
    "# Open the file for writing.\n",
    "with open(tmp.name, 'w') as f:\n",
    "    f.write('cosa\\n') # where `stuff` is, y'know... stuff to write (a string)\n",
    "    f.write('otra cosa')\n",
    "\n",
    "\n",
    "\n",
    "# Open the file for reading.\n",
    "with open(tmp.name) as f:\n",
    "    cosa = f.read()\n",
    "    print(cosa)\n",
    "    \n",
    "         # more things here"
   ]
  },
  {
   "cell_type": "code",
   "execution_count": null,
   "id": "quantitative-visiting",
   "metadata": {},
   "outputs": [],
   "source": []
  }
 ],
 "metadata": {
  "kernelspec": {
   "display_name": "Python 3",
   "language": "python",
   "name": "python3"
  },
  "language_info": {
   "codemirror_mode": {
    "name": "ipython",
    "version": 3
   },
   "file_extension": ".py",
   "mimetype": "text/x-python",
   "name": "python",
   "nbconvert_exporter": "python",
   "pygments_lexer": "ipython3",
   "version": "3.8.6"
  }
 },
 "nbformat": 4,
 "nbformat_minor": 5
}
